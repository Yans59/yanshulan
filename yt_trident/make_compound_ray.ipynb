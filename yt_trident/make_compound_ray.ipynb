{
 "cells": [
  {
   "cell_type": "markdown",
   "id": "35574659",
   "metadata": {},
   "source": [
    "**This code is used to make a compound ray, the method is from `Trident`**, some basic code is from `yt`, the data is from `IllustrisTNG`\n",
    "\n",
    "Made by Shulan Yan at 2022.03.23 09:32"
   ]
  },
  {
   "cell_type": "markdown",
   "id": "349ae644",
   "metadata": {},
   "source": [
    "**Some useful webpage**\n",
    "\n",
    "- 1.Yt project : https://yt-project.org/\n",
    "- 2.Trident project : http://trident-project.org/\n",
    "- 3.TNG project : https://www.tng-project.org/"
   ]
  },
  {
   "cell_type": "code",
   "execution_count": 7,
   "id": "08b35383",
   "metadata": {},
   "outputs": [],
   "source": [
    "import numpy as np\n",
    "import matplotlib.pyplot as plt\n",
    "import h5py\n",
    "import yt\n",
    "import os\n",
    "import functools\n",
    "\n",
    "from yt.frontends.ytdata.utilities import save_as_dataset\n",
    "from yt.utilities.cosmology import Cosmology\n",
    "from yt.utilities.physical_constants import c\n",
    "from yt.utilities.physical_constants import speed_of_light_cgs\n",
    "from yt.units.yt_array import YTArray, YTQuantity\n",
    "from unyt import unyt_quantity\n",
    "\n",
    "from trident.config import ion_table_filepath\n",
    "from trident.ion_balance import atomic_number\n",
    "from trident.line_database import LineDatabase, uniquify\n",
    "from trident.roman import from_roman"
   ]
  },
  {
   "cell_type": "code",
   "execution_count": 2,
   "id": "f80a95be",
   "metadata": {},
   "outputs": [],
   "source": [
    "def vector_length(start, end):\n",
    "    \"\"\"\n",
    "    vector_length(start, end)\n",
    "\n",
    "    Calculate vector length.\n",
    "    \"\"\"\n",
    "\n",
    "    return np.sqrt(np.power((end - start), 2).sum())\n",
    "\n",
    "def flatten_dict_list(data, exceptions=None):\n",
    "    \"\"\"\n",
    "    _flatten_dict_list(data, exceptions=None)\n",
    "\n",
    "    Flatten the list of dicts into one dict.\n",
    "    \"\"\"\n",
    "\n",
    "    if exceptions is None: exceptions = []\n",
    "    new_data = {}\n",
    "    for datum in data:\n",
    "        for field in [field for field in datum.keys() if field not in exceptions]:\n",
    "            if field not in new_data:\n",
    "                new_data[field] = []\n",
    "            new_data[field].extend(datum[field])\n",
    "    for field in new_data:\n",
    "        new_data[field] = YTArray(new_data[field])\n",
    "    return new_data"
   ]
  },
  {
   "cell_type": "code",
   "execution_count": 3,
   "id": "919dc66b",
   "metadata": {},
   "outputs": [],
   "source": [
    "## from yt.utilities.cosmology\n",
    "def deltaz_forward(z, target_distance, cosmology = Cosmology()):\n",
    "    r\"\"\"Calculate deltaz corresponding to moving a comoving distance\n",
    "    starting from some redshift.\n",
    "    \"\"\"\n",
    "\n",
    "    d_Tolerance = 1e-4\n",
    "    max_Iterations = 100\n",
    "\n",
    "    z1 = z\n",
    "    # Use Hubble's law for initial guess\n",
    "    target_distance = cosmology.quan(target_distance.to(\"Mpccm / h\"))\n",
    "    v = cosmology.hubble_parameter(z) * target_distance\n",
    "    v = min(v, 0.9 * c)\n",
    "    dz = np.sqrt((1. + v/c) / (1. - v/c)) - 1. # special relativistic Doppler shift law\n",
    "    z2 = z1 - dz\n",
    "    distance1 = cosmology.quan(0.0, \"Mpccm / h\")\n",
    "    distance2 = cosmology.comoving_radial_distance(z2, z)\n",
    "    iteration = 1\n",
    "\n",
    "    while ((np.abs(distance2 - target_distance)/distance2) > d_Tolerance):\n",
    "        m = (distance2 - distance1) / (z2 - z1)\n",
    "        z1 = z2\n",
    "        distance1 = distance2\n",
    "        z2 = ((target_distance - distance2) / m.in_units(\"Mpccm / h\")) + z2\n",
    "        distance2 = cosmology.comoving_radial_distance(z2, z)\n",
    "        iteration += 1\n",
    "        if (iteration > max_Iterations):\n",
    "            mylog.error(\"deltaz_forward: Warning - max iterations \" +\n",
    "                        \"exceeded for z = %f (delta z = %f).\" %\n",
    "                        (z, np.abs(z2 - z)))\n",
    "            break\n",
    "    return np.abs(z2 - z)"
   ]
  },
  {
   "cell_type": "code",
   "execution_count": 4,
   "id": "f2383c58",
   "metadata": {},
   "outputs": [],
   "source": [
    "## from trident.ray_generator\n",
    "def determine_ions_from_lines(line_database, lines):\n",
    "    \"\"\"\n",
    "    Figure out what ions are necessary to produce the desired lines\n",
    "    \"\"\"\n",
    "    if line_database is not None:\n",
    "        line_database = LineDatabase(line_database)\n",
    "        ion_list = line_database.parse_subset_to_ions(lines)\n",
    "    else:\n",
    "        ion_list = []\n",
    "        if lines == 'all' or lines == ['all']:\n",
    "            for k,v in atomic_number.items():\n",
    "                for j in range(v+1):\n",
    "                    ion_list.append((k, j+1))\n",
    "        else:\n",
    "            for line in lines:\n",
    "                linen = line.split()\n",
    "                if len(linen) >= 2:\n",
    "                    ion_list.append((linen[0], from_roman(linen[1])))\n",
    "                elif len(linen) == 1:\n",
    "                    num_states = atomic_number[linen[0]]\n",
    "                    for j in range(num_states+1):\n",
    "                        ion_list.append((linen[0], j+1))\n",
    "                else:\n",
    "                    raise RuntimeError(\"Cannot add a blank ion.\")\n",
    "\n",
    "    return uniquify(ion_list)\n",
    "\n",
    "def determine_fields_from_ions(ds, ion_list, fields):\n",
    "    \"\"\"\n",
    "    Figure out what fields need to be added based on the ions present.\n",
    "\n",
    "    Check if the number_density fields for these ions exist, and if so, add\n",
    "    them to field list. If not, leave them off, as they'll be generated\n",
    "    on the fly by SpectrumGenerator as long as we include the 'density',\n",
    "    'temperature', and appropriate 'metallicity' fields.\n",
    "    \"\"\"\n",
    "    for ion in ion_list:\n",
    "        atom = ion[0].capitalize()\n",
    "        ion_state = ion[1]\n",
    "        nuclei_field = \"%s_nuclei_mass_density\" % atom\n",
    "        metallicity_field = \"%s_metallicity\" % atom\n",
    "        field = \"%s_p%d_number_density\" % (atom, ion_state-1)\n",
    "\n",
    "        # Check to see if the ion field exists.  If so, add it to the ray.\n",
    "        # If not, then append the density and the appropriate\n",
    "        # metal field so one can create the ion field on the fly on the\n",
    "        # ray itself.\n",
    "        if (\"gas\", field) not in ds.derived_field_list:\n",
    "            fields.append(('gas', 'density'))\n",
    "            if ('gas', metallicity_field) in ds.derived_field_list:\n",
    "                fields.append(('gas', metallicity_field))\n",
    "            elif ('gas', nuclei_field) in ds.derived_field_list:\n",
    "                fields.append(('gas', nuclei_field))\n",
    "            elif atom != 'H':\n",
    "                fields.append(('gas', 'metallicity'))\n",
    "            else:\n",
    "                # Don't need metallicity field if we're just looking\n",
    "                # at hydrogen\n",
    "                pass\n",
    "        else:\n",
    "            fields.append((\"gas\", field))\n",
    "\n",
    "    return fields"
   ]
  },
  {
   "cell_type": "code",
   "execution_count": 5,
   "id": "14eabf0b",
   "metadata": {},
   "outputs": [],
   "source": [
    "quan = functools.partial(YTQuantity, registry=None) # Initialize the data quantity"
   ]
  },
  {
   "cell_type": "code",
   "execution_count": 6,
   "id": "31f8b360",
   "metadata": {},
   "outputs": [],
   "source": [
    "## The initial parameter\n",
    "z_target = 0.04\n",
    "near_redshift = 0\n",
    "far_redshift = near_redshift + z_target\n",
    "use_peculiar_velocity = True # parameter\n",
    "left_edge = np.array([0,0,0])\n",
    "right_edge = np.array([75000,75000,75000])\n",
    "my_random = np.random.RandomState(None)"
   ]
  },
  {
   "cell_type": "code",
   "execution_count": 7,
   "id": "24dee72e",
   "metadata": {},
   "outputs": [
    {
     "name": "stdout",
     "output_type": "stream",
     "text": [
      "Target Redshift: 0.04\n",
      "Redshift Range: 0 , 0.04\n",
      "Left_edge: [0 0 0] Right_edge: [75000 75000 75000]\n"
     ]
    }
   ],
   "source": [
    "print('Target Redshift:',z_target)\n",
    "print('Redshift Range:',near_redshift, ',', far_redshift)\n",
    "print('Left_edge:',left_edge, 'Right_edge:', right_edge)"
   ]
  },
  {
   "cell_type": "code",
   "execution_count": 8,
   "id": "6ac07023",
   "metadata": {},
   "outputs": [],
   "source": [
    "## Read the parameter file\n",
    "basepath = 'tng100-3'\n",
    "snapshot_ids = ['99','91','84','78','72','67']\n",
    "max_box_fraction = 1.0\n",
    "simulation_parameter_filename = basepath + '/simulation.hdf5'\n",
    "simulation_parameter_file = h5py.File(simulation_parameter_filename)"
   ]
  },
  {
   "cell_type": "code",
   "execution_count": 9,
   "id": "96545cbd",
   "metadata": {},
   "outputs": [],
   "source": [
    "basic_parameters = dict(simulation_parameter_file['Header'].attrs.items())\n",
    "Boxsize = basic_parameters['BoxSize']/1000 # in units with 'Mpc/h'\n",
    "Hubble_parameter = basic_parameters['HubbleParam']\n",
    "Omega_matter = basic_parameters['Omega0']\n",
    "Omega_baryon = basic_parameters['OmegaBaryon']\n",
    "Omega_lambda = basic_parameters['OmegaLambda']"
   ]
  },
  {
   "cell_type": "code",
   "execution_count": 10,
   "id": "3cee0765",
   "metadata": {},
   "outputs": [
    {
     "name": "stdout",
     "output_type": "stream",
     "text": [
      "Boxsize: 75.0\n",
      "Hubble parameter (h): 0.6774\n",
      "Omega_matter: 0.3089\n",
      "Omega_baryon: 0.0486\n",
      "Omega_lambda: 0.6911\n"
     ]
    }
   ],
   "source": [
    "print('Boxsize:', Boxsize)\n",
    "print('Hubble parameter (h):', Hubble_parameter)\n",
    "print('Omega_matter:', Omega_matter)\n",
    "print('Omega_baryon:', Omega_baryon)\n",
    "print('Omega_lambda:', Omega_lambda)"
   ]
  },
  {
   "cell_type": "code",
   "execution_count": 11,
   "id": "a50b4f03",
   "metadata": {},
   "outputs": [],
   "source": [
    "## calculate the distance of target\n",
    "\n",
    "# Using the cosmology parameter of TNG\n",
    "cosmology_tng = Cosmology(hubble_constant = Hubble_parameter, omega_matter = Omega_matter, omega_lambda = Omega_lambda)\n",
    "\n",
    "distance_target = cosmology_tng.comoving_radial_distance(near_redshift, far_redshift).in_units('Mpccm/h')\n",
    "unit_mpch = distance_target.units # set the unit\n",
    "box_number = int(distance_target/Boxsize) + 1 # the number of boxes\n",
    "distance_exceed = np.mod(distance_target.value, Boxsize) # the distance in the final box"
   ]
  },
  {
   "cell_type": "code",
   "execution_count": 12,
   "id": "00381745",
   "metadata": {},
   "outputs": [
    {
     "name": "stdout",
     "output_type": "stream",
     "text": [
      "118.7851360718415 Mpccm/h\n",
      "Number of boxes: 2\n",
      "The distance of the final box: 43.78513607184151\n"
     ]
    }
   ],
   "source": [
    "print(distance_target)\n",
    "print('Number of boxes:', box_number)\n",
    "print('The distance of the final box:', distance_exceed)"
   ]
  },
  {
   "cell_type": "code",
   "execution_count": 13,
   "id": "f3bc2a46",
   "metadata": {},
   "outputs": [
    {
     "name": "stderr",
     "output_type": "stream",
     "text": [
      "/home/yanshulan/.local/lib/python3.7/site-packages/unyt/array.py:1779: RuntimeWarning: invalid value encountered in true_divide\n",
      "  inp0.view(np.ndarray), inp1.view(np.ndarray), out=out_func, **kwargs\n"
     ]
    },
    {
     "data": {
      "text/plain": [
       "[{'time': unyt_quantity(4.35581745e+17, 's'),\n",
       "  'redshift': array(0.),\n",
       "  'filename': 'tng100-3/snapdir_099/snap_099.0.hdf5',\n",
       "  'traversal_box_fraction': 1,\n",
       "  'start': array([11.02599624, 30.3637637 ,  0.        ]),\n",
       "  'end': array([11.02599624, 30.3637637 , 75.        ]),\n",
       "  'Next': {'time': unyt_quantity(4.24452947e+17, 's'),\n",
       "   'redshift': array(0.0248772),\n",
       "   'filename': 'tng100-3/snapdir_099/snap_099.0.hdf5',\n",
       "   'traversal_box_fraction': 0.5838018142912201,\n",
       "   'start': array([72.38747416, 69.80563531,  0.        ]),\n",
       "   'end': array([72.38747416, 69.80563531, 43.78513607]),\n",
       "   'Next': None}},\n",
       " {'time': unyt_quantity(4.24452947e+17, 's'),\n",
       "  'redshift': array(0.0248772),\n",
       "  'filename': 'tng100-3/snapdir_099/snap_099.0.hdf5',\n",
       "  'traversal_box_fraction': 0.5838018142912201,\n",
       "  'start': array([72.38747416, 69.80563531,  0.        ]),\n",
       "  'end': array([72.38747416, 69.80563531, 43.78513607]),\n",
       "  'Next': None}]"
      ]
     },
     "execution_count": 13,
     "metadata": {},
     "output_type": "execute_result"
    }
   ],
   "source": [
    "# create cosmology splice\n",
    "snapshot_numbers = len(simulation_parameter_file['Snapshots'].keys())\n",
    "cosmology_splice = []\n",
    "snapshot_index = 0\n",
    "for i in range(box_number):\n",
    "    current_distance = Boxsize * i\n",
    "    if i == box_number - 1:\n",
    "        box_fraction = (distance_target.value - current_distance)/Boxsize\n",
    "    else:\n",
    "        box_fraction = 1\n",
    "    snapshot_index = int((i+2)/4)\n",
    "    snapshot_parameter = dict(simulation_parameter_file['Snapshots'][snapshot_ids[snapshot_index]]['Header'].attrs.items())\n",
    "    snapshot_redshift = snapshot_parameter['Redshift']\n",
    "    \n",
    "    current_distance_in_mpch = quan(current_distance, unit_mpch)\n",
    "    snapshot_redshift = deltaz_forward(0.0, current_distance_in_mpch, cosmology = cosmology_tng).value\n",
    "    snapshot_time = cosmology_tng.t_from_z(snapshot_redshift)\n",
    "    random_pos = Boxsize * my_random.random_sample(3)\n",
    "    start_pos = np.array([random_pos[0],random_pos[1],0]) # Mpc/h\n",
    "    end_pos = start_pos.copy()\n",
    "    end_pos[2] = start_pos[2] + Boxsize*box_fraction  # Mpc/h\n",
    "    output_filename = 'snapdir_0' + str(snapshot_ids[snapshot_index]) + '/snap_0' + str(snapshot_ids[snapshot_index]) + '.0.hdf5'\n",
    "    filepath = os.path.join(basepath, output_filename)\n",
    "    cosmology_splice.append(\n",
    "        {\n",
    "            \"time\": snapshot_time,\n",
    "            \"redshift\": snapshot_redshift,\n",
    "            \"filename\": filepath,\n",
    "            \"traversal_box_fraction\": box_fraction,\n",
    "            \"start\": start_pos,\n",
    "            \"end\": end_pos\n",
    "            }\n",
    "    )\n",
    "    if i == box_number - 1:\n",
    "        cosmology_splice[i]['Next'] = None\n",
    "    if i > 0:\n",
    "        cosmology_splice[i-1]['Next'] = cosmology_splice[i]\n",
    "\n",
    "cosmology_splice"
   ]
  },
  {
   "cell_type": "code",
   "execution_count": 14,
   "id": "d578fb61",
   "metadata": {},
   "outputs": [
    {
     "name": "stderr",
     "output_type": "stream",
     "text": [
      "yt : [INFO     ] 2022-03-30 16:27:23,390 Calculating time from 1.000e+00 to be 4.356e+17 seconds\n",
      "yt : [INFO     ] 2022-03-30 16:27:23,472 Parameters: current_time              = 4.355810528213311e+17 s\n",
      "yt : [INFO     ] 2022-03-30 16:27:23,473 Parameters: domain_dimensions         = [1 1 1]\n",
      "yt : [INFO     ] 2022-03-30 16:27:23,476 Parameters: domain_left_edge          = [0. 0. 0.]\n",
      "yt : [INFO     ] 2022-03-30 16:27:23,477 Parameters: domain_right_edge         = [75000. 75000. 75000.]\n",
      "yt : [INFO     ] 2022-03-30 16:27:23,479 Parameters: cosmological_simulation   = 1\n",
      "yt : [INFO     ] 2022-03-30 16:27:23,479 Parameters: current_redshift          = 2.220446049250313e-16\n",
      "yt : [INFO     ] 2022-03-30 16:27:23,480 Parameters: omega_lambda              = 0.6911\n",
      "yt : [INFO     ] 2022-03-30 16:27:23,481 Parameters: omega_matter              = 0.3089\n",
      "yt : [INFO     ] 2022-03-30 16:27:23,481 Parameters: omega_radiation           = 0.0\n",
      "yt : [INFO     ] 2022-03-30 16:27:23,482 Parameters: hubble_constant           = 0.6774\n",
      "yt : [INFO     ] 2022-03-30 16:27:26,955 Allocating for 3.738e+08 particles\n",
      "Loading particle index: 100%|████████████████████████████████████████████████████████| 722/722 [00:02<00:00, 257.69it/s]\n"
     ]
    }
   ],
   "source": [
    "fields = []\n",
    "ds = yt.load(cosmology_splice[-1]['filename'])\n",
    "if (\"gas\", \"temperature\") in ds.derived_field_list:\n",
    "    fields.append((\"gas\", 'temperature'))\n",
    "\n",
    "if ('gas', 'H_nuclei_density') in ds.derived_field_list:\n",
    "    fields.append(('gas', 'H_nuclei_density'))"
   ]
  },
  {
   "cell_type": "code",
   "execution_count": 15,
   "id": "8f1150ce",
   "metadata": {},
   "outputs": [],
   "source": [
    "# set the ionication table\n",
    "ionization_table = ion_table_filepath\n",
    "ion_list = determine_ions_from_lines(line_database = None, lines = ['H I'])"
   ]
  },
  {
   "cell_type": "code",
   "execution_count": 16,
   "id": "81a73a25",
   "metadata": {},
   "outputs": [],
   "source": [
    "fields = determine_fields_from_ions(ds, ion_list, fields)\n",
    "for i in range(len(fields)):\n",
    "    if isinstance(fields[i], str):\n",
    "        fields[i] = ('gas', fields[i])\n",
    "fields = uniquify(fields)"
   ]
  },
  {
   "cell_type": "code",
   "execution_count": 17,
   "id": "75ac9dfb",
   "metadata": {},
   "outputs": [],
   "source": [
    "if (('gas', 'temperature') not in fields) and ('temperature' not in fields):\n",
    "    fields.append(('gas', 'temperature'))\n",
    "data_fields = fields[:]\n",
    "all_fields = fields[:]\n",
    "all_fields.extend(['l', 'dl', 'redshift'])\n",
    "all_fields.extend(['x', 'y', 'z'])\n",
    "data_fields.extend(['x', 'y', 'z'])\n",
    "if use_peculiar_velocity:\n",
    "    all_fields.extend(['relative_velocity_x', 'relative_velocity_y',\n",
    "                        'relative_velocity_z',\n",
    "                        'velocity_los', 'redshift_eff',\n",
    "                        'redshift_dopp'])\n",
    "    data_fields.extend(['relative_velocity_x', 'relative_velocity_y', 'relative_velocity_z'])\n",
    "\n",
    "all_ray_storage = {}"
   ]
  },
  {
   "cell_type": "code",
   "execution_count": 18,
   "id": "09e72217",
   "metadata": {},
   "outputs": [],
   "source": [
    "from yt.utilities.parallel_tools.parallel_analysis_interface import parallel_objects, parallel_root_only"
   ]
  },
  {
   "cell_type": "code",
   "execution_count": 44,
   "id": "64b9b3a2",
   "metadata": {
    "scrolled": false
   },
   "outputs": [
    {
     "name": "stderr",
     "output_type": "stream",
     "text": [
      "yt : [INFO     ] 2022-03-30 16:47:27,563 Calculating time from 1.000e+00 to be 4.356e+17 seconds\n",
      "yt : [INFO     ] 2022-03-30 16:47:27,618 Parameters: current_time              = 4.355810528213311e+17 s\n",
      "yt : [INFO     ] 2022-03-30 16:47:27,618 Parameters: domain_dimensions         = [1 1 1]\n",
      "yt : [INFO     ] 2022-03-30 16:47:27,619 Parameters: domain_left_edge          = [0. 0. 0.]\n",
      "yt : [INFO     ] 2022-03-30 16:47:27,620 Parameters: domain_right_edge         = [75000. 75000. 75000.]\n",
      "yt : [INFO     ] 2022-03-30 16:47:27,621 Parameters: cosmological_simulation   = 1\n",
      "yt : [INFO     ] 2022-03-30 16:47:27,621 Parameters: current_redshift          = 2.220446049250313e-16\n",
      "yt : [INFO     ] 2022-03-30 16:47:27,623 Parameters: omega_lambda              = 0.6911\n",
      "yt : [INFO     ] 2022-03-30 16:47:27,623 Parameters: omega_matter              = 0.3089\n",
      "yt : [INFO     ] 2022-03-30 16:47:27,624 Parameters: omega_radiation           = 0.0\n",
      "yt : [INFO     ] 2022-03-30 16:47:27,625 Parameters: hubble_constant           = 0.6774\n",
      "yt : [INFO     ] 2022-03-30 16:47:31,026 Allocating for 3.738e+08 particles\n",
      "Loading particle index: 100%|████████████████████████████████████████████████████████| 722/722 [00:02<00:00, 293.98it/s]\n",
      "/home/yanshulan/.local/lib/python3.7/site-packages/yt/data_objects/data_containers.py:1421: VisibleDeprecationWarning: The requested field name 'x' is ambiguous and corresponds to any one of the following field types:\n",
      " {'gas', 'PartType0'}\n",
      "Please specify the requested field as an explicit tuple (ftype, fname).\n",
      "Defaulting to '(\"PartType0\", \"x\")'.\n",
      "Deprecated since v4.0.0. This feature will be removed in v4.1.0\n",
      "  finfo = self.ds._get_field_info(field)\n",
      "/home/yanshulan/.local/lib/python3.7/site-packages/yt/data_objects/data_containers.py:1421: VisibleDeprecationWarning: The requested field name 'y' is ambiguous and corresponds to any one of the following field types:\n",
      " {'gas', 'PartType0'}\n",
      "Please specify the requested field as an explicit tuple (ftype, fname).\n",
      "Defaulting to '(\"PartType0\", \"y\")'.\n",
      "Deprecated since v4.0.0. This feature will be removed in v4.1.0\n",
      "  finfo = self.ds._get_field_info(field)\n",
      "/home/yanshulan/.local/lib/python3.7/site-packages/yt/data_objects/data_containers.py:1421: VisibleDeprecationWarning: The requested field name 'z' is ambiguous and corresponds to any one of the following field types:\n",
      " {'gas', 'PartType0'}\n",
      "Please specify the requested field as an explicit tuple (ftype, fname).\n",
      "Defaulting to '(\"PartType0\", \"z\")'.\n",
      "Deprecated since v4.0.0. This feature will be removed in v4.1.0\n",
      "  finfo = self.ds._get_field_info(field)\n",
      "/home/yanshulan/.local/lib/python3.7/site-packages/yt/data_objects/data_containers.py:1421: VisibleDeprecationWarning: The requested field name 'velocity_magnitude' is ambiguous and corresponds to any one of the following field types:\n",
      " {'PartType0'}\n",
      "Please specify the requested field as an explicit tuple (ftype, fname).\n",
      "Defaulting to '(\"gas\", \"velocity_magnitude\")'.\n",
      "Deprecated since v4.0.0. This feature will be removed in v4.1.0\n",
      "  finfo = self.ds._get_field_info(field)\n",
      "yt : [INFO     ] 2022-03-30 16:50:57,147 Calculating time from 1.000e+00 to be 4.356e+17 seconds\n",
      "yt : [INFO     ] 2022-03-30 16:50:57,205 Parameters: current_time              = 4.355810528213311e+17 s\n",
      "yt : [INFO     ] 2022-03-30 16:50:57,206 Parameters: domain_dimensions         = [1 1 1]\n",
      "yt : [INFO     ] 2022-03-30 16:50:57,207 Parameters: domain_left_edge          = [0. 0. 0.]\n",
      "yt : [INFO     ] 2022-03-30 16:50:57,208 Parameters: domain_right_edge         = [75000. 75000. 75000.]\n",
      "yt : [INFO     ] 2022-03-30 16:50:57,209 Parameters: cosmological_simulation   = 1\n",
      "yt : [INFO     ] 2022-03-30 16:50:57,210 Parameters: current_redshift          = 2.220446049250313e-16\n",
      "yt : [INFO     ] 2022-03-30 16:50:57,210 Parameters: omega_lambda              = 0.6911\n",
      "yt : [INFO     ] 2022-03-30 16:50:57,212 Parameters: omega_matter              = 0.3089\n",
      "yt : [INFO     ] 2022-03-30 16:50:57,212 Parameters: omega_radiation           = 0.0\n",
      "yt : [INFO     ] 2022-03-30 16:50:57,213 Parameters: hubble_constant           = 0.6774\n",
      "yt : [INFO     ] 2022-03-30 16:51:00,362 Allocating for 3.738e+08 particles\n",
      "Loading particle index: 100%|████████████████████████████████████████████████████████| 722/722 [00:02<00:00, 251.19it/s]\n"
     ]
    }
   ],
   "source": [
    "for my_storage, my_segment in parallel_objects(cosmology_splice,storage = all_ray_storage):\n",
    "    ds = yt.load(my_segment['filename'] + str(''))\n",
    "    my_start = ds.arr(my_segment['start'],'Mpccm/h')\n",
    "    my_end   = ds.arr(my_segment['end'],'Mpccm/h')\n",
    "    sub_segments = [[my_start, my_end]]\n",
    "\n",
    "    sub_data = {}\n",
    "    # Put supplementary data that we want communicated across\n",
    "    # processors in here.\n",
    "    sub_data['extra_data'] = {}\n",
    "    sub_data['extra_data']['segment_redshift'] = my_segment['redshift']\n",
    "    sub_data['extra_data']['unique_identifier'] = ds.unique_identifier\n",
    "    for field in all_fields:\n",
    "        sub_data[field] = []\n",
    "    ray_length = ds.quan(0, 'code_length')\n",
    "    for sub_segment in sub_segments:\n",
    "        sub_ray = ds.ray(sub_segment[0], sub_segment[1])\n",
    "        asort = np.argsort(sub_ray[\"t\"])\n",
    "        sub_length = vector_length(sub_ray.start_point, sub_ray.end_point)\n",
    "\n",
    "        # redshifts derived from l values\n",
    "        sub_data['l'].extend(sub_ray['t'][asort] * sub_length + ray_length)\n",
    "        ray_length += sub_length\n",
    "        # column densities derived from dl values\n",
    "        sub_data['dl'].extend(sub_ray['dts'][asort] * sub_length)\n",
    "        for field in data_fields:\n",
    "            sub_data[field].extend(sub_ray[field][asort])\n",
    "\n",
    "        if use_peculiar_velocity:\n",
    "            line_of_sight = sub_segment[0] - sub_segment[1]\n",
    "            line_of_sight /= ((line_of_sight**2).sum())**0.5\n",
    "            sub_vel = ds.arr([sub_ray['relative_velocity_x'], sub_ray['relative_velocity_y'], sub_ray['relative_velocity_z']])\n",
    "            # Line of sight velocity = vel_los\n",
    "            sub_vel_los = (np.rollaxis(sub_vel, 1) * line_of_sight).sum(axis=1)\n",
    "            sub_data['velocity_los'].extend(sub_vel_los[asort])\n",
    "            sub_vel_mag = sub_ray['velocity_magnitude']\n",
    "            cos_theta = line_of_sight.dot(sub_vel) / sub_vel_mag\n",
    "            cos_theta = np.nan_to_num(cos_theta)\n",
    "            # doppler redshift\n",
    "            redshift_dopp = (1 + sub_vel_mag * cos_theta / speed_of_light_cgs) / np.sqrt(1 - sub_vel_mag**2 / speed_of_light_cgs**2) - 1\n",
    "            sub_data['redshift_dopp'].extend(redshift_dopp[asort])\n",
    "            del sub_vel, sub_vel_los, sub_vel_mag, cos_theta, redshift_dopp\n",
    "\n",
    "        sub_ray.clear_data()\n",
    "        del sub_ray, asort\n",
    "        \n",
    "    for key in sub_data:\n",
    "        if key == \"extra_data\":\n",
    "            continue\n",
    "        sub_data[key] = ds.arr(sub_data[key]).in_cgs()\n",
    "\n",
    "    # Get redshift for each lixel.  Assume linear relation between l\n",
    "    # and z.  so z = z_start - z_range * (l / l_range)\n",
    "    if my_segment['Next'] is not None:\n",
    "        next_redshift = my_segment['Next']['redshift']\n",
    "    else:\n",
    "        next_redshift = far_redshift\n",
    "    \n",
    "    sub_data['redshift'] = my_segment['redshift'] - (sub_data['l'] / ray_length) * (my_segment['redshift'] - next_redshift)\n",
    "\n",
    "    if use_peculiar_velocity:\n",
    "        sub_data['redshift_eff'] = ((1 + sub_data['redshift_dopp']) * (1 + sub_data['redshift'])) - 1\n",
    "\n",
    "    # Remove empty lixels.\n",
    "    sub_dl_nonzero = sub_data['dl'].nonzero()\n",
    "    for field in all_fields:\n",
    "        sub_data[field] = sub_data[field][sub_dl_nonzero]\n",
    "    del sub_dl_nonzero\n",
    "    \n",
    "    # Add to storage.\n",
    "    my_storage.result = sub_data\n",
    "    del ds"
   ]
  },
  {
   "cell_type": "code",
   "execution_count": 45,
   "id": "509999b6",
   "metadata": {},
   "outputs": [],
   "source": [
    "# Reconstruct ray data from parallel_objects storage.\n",
    "all_data = [my_data for my_data in all_ray_storage.values()]\n",
    "# This is now a list of segments where each one is a dictionary\n",
    "# with all the fields.\n",
    "all_data.sort(key=lambda a:a['extra_data']['segment_redshift'], reverse=True)\n",
    "\n",
    "# Gather segment data to add to the light ray solution.\n",
    "for segment_data, my_segment in zip(all_data, cosmology_splice):\n",
    "    my_segment[\"unique_identifier\"] = segment_data[\"extra_data\"][\"unique_identifier\"]\n",
    "\n",
    "# Flatten the list into a single dictionary containing fields\n",
    "# for the whole ray.\n",
    "all_data = flatten_dict_list(all_data, exceptions=['extra_data'])\n",
    "\n",
    "data = all_data\n",
    "extra_attrs = {\"data_type\": \"yt_light_ray\"}"
   ]
  },
  {
   "cell_type": "code",
   "execution_count": 46,
   "id": "dddd5af2",
   "metadata": {},
   "outputs": [],
   "source": [
    "ds = {}\n",
    "ds[\"periodicity\"] = (True, True, True)\n",
    "ds[\"current_redshift\"] = near_redshift"
   ]
  },
  {
   "cell_type": "code",
   "execution_count": 47,
   "id": "bc7a66cf",
   "metadata": {},
   "outputs": [
    {
     "name": "stderr",
     "output_type": "stream",
     "text": [
      "yt : [INFO     ] 2022-03-30 16:54:30,852 Calculating time from 1.000e+00 to be 4.356e+17 seconds\n",
      "yt : [INFO     ] 2022-03-30 16:54:30,909 Parameters: current_time              = 4.355810528213311e+17 s\n",
      "yt : [INFO     ] 2022-03-30 16:54:30,910 Parameters: domain_dimensions         = [1 1 1]\n",
      "yt : [INFO     ] 2022-03-30 16:54:30,911 Parameters: domain_left_edge          = [0. 0. 0.]\n",
      "yt : [INFO     ] 2022-03-30 16:54:30,911 Parameters: domain_right_edge         = [75000. 75000. 75000.]\n",
      "yt : [INFO     ] 2022-03-30 16:54:30,913 Parameters: cosmological_simulation   = 1\n",
      "yt : [INFO     ] 2022-03-30 16:54:30,913 Parameters: current_redshift          = 2.220446049250313e-16\n",
      "yt : [INFO     ] 2022-03-30 16:54:30,914 Parameters: omega_lambda              = 0.6911\n",
      "yt : [INFO     ] 2022-03-30 16:54:30,914 Parameters: omega_matter              = 0.3089\n",
      "yt : [INFO     ] 2022-03-30 16:54:30,915 Parameters: omega_radiation           = 0.0\n",
      "yt : [INFO     ] 2022-03-30 16:54:30,915 Parameters: hubble_constant           = 0.6774\n"
     ]
    }
   ],
   "source": [
    "simulation = yt.load(cosmology_splice[-1]['filename'])\n",
    "for attr in [\"dimensionality\", \"cosmological_simulation\", \"domain_left_edge\", \"domain_right_edge\", \"length_unit\", \"time_unit\"]:\n",
    "    ds[attr] = getattr(simulation, attr)\n",
    "    if simulation.cosmological_simulation:\n",
    "        for attr in [\"omega_lambda\", \"omega_matter\",\"hubble_constant\"]:\n",
    "            ds[attr] = getattr(cosmology_tng, attr)\n",
    "    ds[\"current_time\"] = cosmology_tng.t_from_z(ds[\"current_redshift\"])\n",
    "    if isinstance(ds[\"hubble_constant\"], YTArray):\n",
    "        ds[\"hubble_constant\"] = ds[\"hubble_constant\"].to(\"100*km/(Mpc*s)\").d\n",
    "    extra_attrs[\"unit_registry_json\"] = simulation.unit_registry.to_json()"
   ]
  },
  {
   "cell_type": "code",
   "execution_count": 48,
   "id": "cab79d40",
   "metadata": {},
   "outputs": [],
   "source": [
    "field_types = dict([(field, \"grid\") for field in sub_data.keys()])"
   ]
  },
  {
   "cell_type": "code",
   "execution_count": 49,
   "id": "00c51e16",
   "metadata": {},
   "outputs": [],
   "source": [
    "if 'temperature' in data: f = 'temperature'\n",
    "if ('gas', 'temperature') in data: f = ('gas', 'temperature')\n",
    "if 'temperature' in data or ('gas', 'temperature') in data:\n",
    "    mask = data[f] > 0\n",
    "    if not np.any(mask):\n",
    "        raise RuntimeError(\n",
    "            \"No zones along light ray with nonzero %s. \"\n",
    "            \"Please modify your light ray trajectory.\" % (f,))\n",
    "    for key in data.keys():\n",
    "        data[key] = data[key][mask]"
   ]
  },
  {
   "cell_type": "code",
   "execution_count": 50,
   "id": "08749b21",
   "metadata": {},
   "outputs": [
    {
     "data": {
      "text/plain": [
       "[('gas', 'temperature'),\n",
       " ('gas', 'H_nuclei_density'),\n",
       " ('gas', 'H_p0_number_density'),\n",
       " 'l',\n",
       " 'dl',\n",
       " 'redshift',\n",
       " 'x',\n",
       " 'y',\n",
       " 'z',\n",
       " 'relative_velocity_x',\n",
       " 'relative_velocity_y',\n",
       " 'relative_velocity_z',\n",
       " 'velocity_los',\n",
       " 'redshift_eff',\n",
       " 'redshift_dopp']"
      ]
     },
     "execution_count": 50,
     "metadata": {},
     "output_type": "execute_result"
    }
   ],
   "source": [
    "list(data.keys())"
   ]
  },
  {
   "cell_type": "markdown",
   "id": "cd6b1543",
   "metadata": {},
   "source": [
    "save the file as a `hdf5` file"
   ]
  },
  {
   "cell_type": "code",
   "execution_count": 51,
   "id": "a1906588",
   "metadata": {},
   "outputs": [],
   "source": [
    "filename = 'test2.h5'"
   ]
  },
  {
   "cell_type": "code",
   "execution_count": 52,
   "id": "871bea66",
   "metadata": {},
   "outputs": [
    {
     "name": "stderr",
     "output_type": "stream",
     "text": [
      "yt : [INFO     ] 2022-03-30 16:54:35,111 Saving field data to yt dataset: test2.h5.\n"
     ]
    },
    {
     "data": {
      "text/plain": [
       "'test2.h5'"
      ]
     },
     "execution_count": 52,
     "metadata": {},
     "output_type": "execute_result"
    }
   ],
   "source": [
    "save_as_dataset(ds, filename, data, field_types=field_types,extra_attrs=extra_attrs)"
   ]
  },
  {
   "cell_type": "markdown",
   "id": "9b112f73",
   "metadata": {},
   "source": [
    "Use `Trident` to make mock spectrum"
   ]
  },
  {
   "cell_type": "code",
   "execution_count": 1,
   "id": "c361a0f4",
   "metadata": {},
   "outputs": [],
   "source": [
    "import trident as tri"
   ]
  },
  {
   "cell_type": "code",
   "execution_count": 27,
   "id": "849338a0",
   "metadata": {},
   "outputs": [
    {
     "name": "stderr",
     "output_type": "stream",
     "text": [
      "yt : [INFO     ] 2022-03-30 19:48:35,779 Setting instrument to COS\n",
      "yt : [INFO     ] 2022-03-30 19:48:35,965 Parameters: current_time              = 4.3558174518095616e+17 s\n",
      "yt : [INFO     ] 2022-03-30 19:48:35,966 Parameters: domain_dimensions         = [1 1 1]\n",
      "yt : [INFO     ] 2022-03-30 19:48:35,967 Parameters: domain_left_edge          = [0. 0. 0.] code_length\n",
      "yt : [INFO     ] 2022-03-30 19:48:35,968 Parameters: domain_right_edge         = [75000. 75000. 75000.] code_length\n",
      "yt : [INFO     ] 2022-03-30 19:48:35,969 Parameters: cosmological_simulation   = 1\n",
      "yt : [INFO     ] 2022-03-30 19:48:35,970 Parameters: current_redshift          = 0\n",
      "yt : [INFO     ] 2022-03-30 19:48:35,971 Parameters: omega_lambda              = 0.6911\n",
      "yt : [INFO     ] 2022-03-30 19:48:35,971 Parameters: omega_matter              = 0.3089\n",
      "yt : [INFO     ] 2022-03-30 19:48:35,972 Parameters: omega_radiation           = 0.0\n",
      "yt : [INFO     ] 2022-03-30 19:48:35,973 Parameters: hubble_constant           = 0.6774\n",
      "yt : [INFO     ] 2022-03-30 19:48:36,011 Allocating for 2.304e+03 particles\n",
      "/home/yanshulan/.local/lib/python3.7/site-packages/yt/data_objects/data_containers.py:1421: VisibleDeprecationWarning: The requested field name 'H_p0_number_density' is ambiguous and corresponds to any one of the following field types:\n",
      " {'all', 'gas'}\n",
      "Please specify the requested field as an explicit tuple (ftype, fname).\n",
      "Defaulting to '(\"all\", \"H_p0_number_density\")'.\n",
      "Deprecated since v4.0.0. This feature will be removed in v4.1.0\n",
      "  finfo = self.ds._get_field_info(field)\n",
      "yt : [INFO     ] 2022-03-30 19:48:37,044 Creating spectrum\n",
      "/home/yanshulan/.local/lib/python3.7/site-packages/yt/data_objects/data_containers.py:1421: VisibleDeprecationWarning: The requested field name 'redshift' is ambiguous and corresponds to any one of the following field types:\n",
      " {'all', 'gas'}\n",
      "Please specify the requested field as an explicit tuple (ftype, fname).\n",
      "Defaulting to '(\"all\", \"redshift\")'.\n",
      "Deprecated since v4.0.0. This feature will be removed in v4.1.0\n",
      "  finfo = self.ds._get_field_info(field)\n",
      "/home/yanshulan/.local/lib/python3.7/site-packages/yt/data_objects/data_containers.py:1421: VisibleDeprecationWarning: The requested field name 'redshift_eff' is ambiguous and corresponds to any one of the following field types:\n",
      " {'all', 'gas'}\n",
      "Please specify the requested field as an explicit tuple (ftype, fname).\n",
      "Defaulting to '(\"all\", \"redshift_eff\")'.\n",
      "Deprecated since v4.0.0. This feature will be removed in v4.1.0\n",
      "  finfo = self.ds._get_field_info(field)\n",
      "/home/yanshulan/.local/lib/python3.7/site-packages/yt/data_objects/data_containers.py:1421: VisibleDeprecationWarning: The requested field name 'dl' is ambiguous and corresponds to any one of the following field types:\n",
      " {'all', 'gas'}\n",
      "Please specify the requested field as an explicit tuple (ftype, fname).\n",
      "Defaulting to '(\"all\", \"dl\")'.\n",
      "Deprecated since v4.0.0. This feature will be removed in v4.1.0\n",
      "  finfo = self.ds._get_field_info(field)\n",
      "/home/yanshulan/.local/lib/python3.7/site-packages/yt/data_objects/data_containers.py:1421: VisibleDeprecationWarning: The requested field name 'temperature' is ambiguous and corresponds to any one of the following field types:\n",
      " {'all', 'gas'}\n",
      "Please specify the requested field as an explicit tuple (ftype, fname).\n",
      "Defaulting to '(\"all\", \"temperature\")'.\n",
      "Deprecated since v4.0.0. This feature will be removed in v4.1.0\n",
      "  finfo = self.ds._get_field_info(field)\n",
      "/home/yanshulan/.local/lib/python3.7/site-packages/yt/data_objects/data_containers.py:1421: VisibleDeprecationWarning: The requested field name 'velocity_los' is ambiguous and corresponds to any one of the following field types:\n",
      " {'all', 'gas'}\n",
      "Please specify the requested field as an explicit tuple (ftype, fname).\n",
      "Defaulting to '(\"all\", \"velocity_los\")'.\n",
      "Deprecated since v4.0.0. This feature will be removed in v4.1.0\n",
      "  finfo = self.ds._get_field_info(field)\n",
      "Adding line - Ly a [1215.670000 A]: 100%|████████████████████████████████████████▉| 2303/2304 [00:00<00:00, 2565.45it/s]\n",
      "yt : [INFO     ] 2022-03-30 19:48:38,135 Not adding continuum Ly C: insufficient column density or out of range\n"
     ]
    }
   ],
   "source": [
    "# make mock spectra\n",
    "sg = tri.SpectrumGenerator('COS')\n",
    "sg.make_spectrum('test2.h5', lines = [\"Ly a\"])"
   ]
  },
  {
   "cell_type": "code",
   "execution_count": 28,
   "id": "279ac90f",
   "metadata": {},
   "outputs": [
    {
     "name": "stderr",
     "output_type": "stream",
     "text": [
      "yt : [INFO     ] 2022-03-30 19:48:40,745 Writing spectrum to hdf5 file: test_spec.h5.\n"
     ]
    }
   ],
   "source": [
    "# save the spectrum\n",
    "sg.save_spectrum('test_spec.h5')"
   ]
  },
  {
   "cell_type": "code",
   "execution_count": 29,
   "id": "04d4e83d",
   "metadata": {},
   "outputs": [],
   "source": [
    "f_spec = h5py.File('test_spec.h5')\n",
    "wavelength = f_spec[\"wavelength\"][:]\n",
    "flux = f_spec['flux'][:]\n",
    "f_spec.close()"
   ]
  },
  {
   "cell_type": "code",
   "execution_count": 30,
   "id": "4ef12b84",
   "metadata": {},
   "outputs": [
    {
     "data": {
      "text/plain": [
       "Text(0, 0.5, 'Flux($\\\\mathrm{exp[-\\\\tau]}$)')"
      ]
     },
     "execution_count": 30,
     "metadata": {},
     "output_type": "execute_result"
    },
    {
     "data": {
      "image/png": "[encoded data removed]",
      "text/plain": [
       "<Figure size 1000x300 with 1 Axes>"
      ]
     },
     "metadata": {
      "needs_background": "light"
     },
     "output_type": "display_data"
    }
   ],
   "source": [
    "plt.figure(figsize = (10,3),dpi = 100)\n",
    "plt.plot(wavelength,flux)\n",
    "plt.xlim(1215,1265)\n",
    "plt.xlabel('$\\mathrm{wave(\\AA)}$')\n",
    "plt.ylabel('Flux($\\mathrm{exp[-\\\\tau]}$)')"
   ]
  },
  {
   "cell_type": "code",
   "execution_count": 31,
   "id": "0b41aec3",
   "metadata": {},
   "outputs": [
    {
     "name": "stderr",
     "output_type": "stream",
     "text": [
      "yt : [INFO     ] 2022-03-30 19:49:03,113 Applying default line spread function for COS.\n"
     ]
    }
   ],
   "source": [
    "# add line spread function of COS\n",
    "sg.apply_lsf()"
   ]
  },
  {
   "cell_type": "code",
   "execution_count": 32,
   "id": "e4c5bc5f",
   "metadata": {},
   "outputs": [
    {
     "name": "stderr",
     "output_type": "stream",
     "text": [
      "yt : [INFO     ] 2022-03-30 19:49:03,869 Writing spectrum to hdf5 file: test_spec_lsf.h5.\n"
     ]
    }
   ],
   "source": [
    "sg.save_spectrum('test_spec_lsf.h5')"
   ]
  },
  {
   "cell_type": "code",
   "execution_count": 33,
   "id": "be670c88",
   "metadata": {},
   "outputs": [],
   "source": [
    "f_spec = h5py.File('test_spec_lsf.h5')\n",
    "wavelength = f_spec[\"wavelength\"][:]\n",
    "flux = f_spec['flux'][:]\n",
    "f_spec.close()"
   ]
  },
  {
   "cell_type": "code",
   "execution_count": 34,
   "id": "e4add7c2",
   "metadata": {},
   "outputs": [
    {
     "data": {
      "text/plain": [
       "Text(0, 0.5, 'Flux($\\\\mathrm{exp[-\\\\tau]}$)')"
      ]
     },
     "execution_count": 34,
     "metadata": {},
     "output_type": "execute_result"
    },
    {
     "data": {
      "image/png": "[encoded data removed]",
      "text/plain": [
       "<Figure size 1000x300 with 1 Axes>"
      ]
     },
     "metadata": {
      "needs_background": "light"
     },
     "output_type": "display_data"
    }
   ],
   "source": [
    "plt.figure(figsize = (10,3),dpi = 100)\n",
    "plt.plot(wavelength,flux)\n",
    "plt.xlim(1215,1265)\n",
    "plt.ylim(0.82,1.01)\n",
    "plt.xlabel('$\\mathrm{wave(\\AA)}$')\n",
    "plt.ylabel('Flux($\\mathrm{exp[-\\\\tau]}$)')"
   ]
  },
  {
   "cell_type": "code",
   "execution_count": 35,
   "id": "ecc3770e",
   "metadata": {},
   "outputs": [],
   "source": [
    "# add guassian noise\n",
    "sg.add_gaussian_noise(30)"
   ]
  },
  {
   "cell_type": "code",
   "execution_count": 36,
   "id": "972505ec",
   "metadata": {},
   "outputs": [
    {
     "name": "stderr",
     "output_type": "stream",
     "text": [
      "yt : [INFO     ] 2022-03-30 19:49:24,725 Writing spectrum to hdf5 file: test_spec_lsf_noise30.h5.\n"
     ]
    }
   ],
   "source": [
    "sg.save_spectrum('test_spec_lsf_noise30.h5')"
   ]
  },
  {
   "cell_type": "code",
   "execution_count": 37,
   "id": "194158bf",
   "metadata": {},
   "outputs": [],
   "source": [
    "f_spec = h5py.File('test_spec_lsf_noise30.h5')\n",
    "wavelength = f_spec[\"wavelength\"][:]\n",
    "flux = f_spec['flux'][:]\n",
    "f_spec.close()"
   ]
  },
  {
   "cell_type": "code",
   "execution_count": 38,
   "id": "3d9fbcca",
   "metadata": {},
   "outputs": [],
   "source": [
    "f_spec30 = h5py.File('test_spec_lsf_noise30.h5')\n",
    "wavelength30 = f_spec30[\"wavelength\"][:]\n",
    "flux30 = f_spec30['flux'][:]\n",
    "f_spec30.close()"
   ]
  },
  {
   "cell_type": "code",
   "execution_count": 39,
   "id": "ad03104d",
   "metadata": {},
   "outputs": [
    {
     "data": {
      "text/plain": [
       "Text(0, 0.5, 'Flux($\\\\mathrm{exp[-\\\\tau]}$)')"
      ]
     },
     "execution_count": 39,
     "metadata": {},
     "output_type": "execute_result"
    },
    {
     "data": {
      "image/png": "[encoded data removed]",
      "text/plain": [
       "<Figure size 1100x330 with 1 Axes>"
      ]
     },
     "metadata": {
      "needs_background": "light"
     },
     "output_type": "display_data"
    }
   ],
   "source": [
    "plt.figure(figsize = (10,3),dpi = 110)\n",
    "plt.plot(wavelength30,flux30)\n",
    "plt.xlim(1215,1265)\n",
    "plt.ylim(0.7,1.15)\n",
    "plt.xlabel('$\\mathrm{wave(\\AA)}$')\n",
    "plt.ylabel('Flux($\\mathrm{exp[-\\\\tau]}$)')"
   ]
  }
 ],
 "metadata": {
  "kernelspec": {
   "display_name": "Python 3 (ipykernel)",
   "language": "python",
   "name": "python3"
  },
  "language_info": {
   "codemirror_mode": {
    "name": "ipython",
    "version": 3
   },
   "file_extension": ".py",
   "mimetype": "text/x-python",
   "name": "python",
   "nbconvert_exporter": "python",
   "pygments_lexer": "ipython3",
   "version": "3.7.5"
  }
 },
 "nbformat": 4,
 "nbformat_minor": 5
}
